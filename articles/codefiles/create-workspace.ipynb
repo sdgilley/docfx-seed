{
 "cells": [
  {
   "cell_type": "code",
   "execution_count": null,
   "metadata": {
    "name": "import"
   },
   "outputs": [],
   "source": [
    "import azureml.core\n",
    "print(azureml.core.VERSION)"
   ]
  },
  {
   "cell_type": "code",
   "execution_count": null,
   "metadata": {},
   "outputs": [],
   "source": [
    "from azureml.core import Experiment, Run, Workspace\n",
    "import azureml.core\n",
    "\n",
    "ws = Workspace(workspace_name = <<workspace_name>>,\n",
    "            subscription_id = <<subscription_id>>,\n",
    "            resource_group = <<resource_group>>)"
   ]
  },
  {
   "cell_type": "code",
   "execution_count": null,
   "metadata": {
    "name": "get_details"
   },
   "outputs": [],
   "source": [
    "ws.get_details()"
   ]
  },
  {
   "cell_type": "code",
   "execution_count": null,
   "metadata": {
    "name": "writeConfig"
   },
   "outputs": [],
   "source": [
    "# Create the configuration file.\n",
    "ws.write_config()\n",
    "\n",
    "# Use this code to load the workspace from \n",
    "# other scripts and notebooks in this directory.\n",
    "# ws = Workspace.from_config()"
   ]
  },
  {
   "cell_type": "code",
   "execution_count": null,
   "metadata": {
    "name": "useWs"
   },
   "outputs": [],
   "source": [
    "from azureml.core import Experiment\n",
    "\n",
    "# Create a new experiment in your workspace.\n",
    "exp = Experiment(workspace=ws, name='myexp')\n",
    "\n",
    "# Start a run and start the logging service.\n",
    "run = exp.start_logging()\n",
    "\n",
    "# Log a single  number.\n",
    "run.log('my magic number', 42)\n",
    "\n",
    "# Log a list (Fibonacci numbers).\n",
    "run.log_list('my list', [1, 1, 2, 3, 5, 8, 13, 21, 34, 55]) \n",
    "\n",
    "# Finish the run.\n",
    "run.complete()\n"
   ]
  },
  {
   "cell_type": "code",
   "execution_count": null,
   "metadata": {},
   "outputs": [],
   "source": [
    "print(run.get_portal_url())"
   ]
  }
 ],
 "metadata": {
  "celltoolbar": "Edit Metadata",
  "kernelspec": {
   "display_name": "Python 3.6 - AzureML",
   "language": "python",
   "name": "python3-azureml"
  },
  "language_info": {
   "codemirror_mode": {
    "name": "ipython",
    "version": 3
   },
   "file_extension": ".py",
   "mimetype": "text/x-python",
   "name": "python",
   "nbconvert_exporter": "python",
   "pygments_lexer": "ipython3",
   "version": "3.6.8"
  }
 },
 "nbformat": 4,
 "nbformat_minor": 2
}
